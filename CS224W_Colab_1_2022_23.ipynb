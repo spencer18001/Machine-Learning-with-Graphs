{
  "nbformat": 4,
  "nbformat_minor": 0,
  "metadata": {
    "kernelspec": {
      "display_name": "Python 3",
      "language": "python",
      "name": "python3"
    },
    "language_info": {
      "codemirror_mode": {
        "name": "ipython",
        "version": 3
      },
      "file_extension": ".py",
      "mimetype": "text/x-python",
      "name": "python",
      "nbconvert_exporter": "python",
      "pygments_lexer": "ipython3",
      "version": "3.7.3"
    },
    "colab": {
      "provenance": [],
      "machine_shape": "hm",
      "include_colab_link": true
    }
  },
  "cells": [
    {
      "cell_type": "markdown",
      "metadata": {
        "id": "view-in-github",
        "colab_type": "text"
      },
      "source": [
        "<a href=\"https://colab.research.google.com/github/spencer18001/Machine-Learning-with-Graphs/blob/main/CS224W_Colab_1_2022_23.ipynb\" target=\"_parent\"><img src=\"https://colab.research.google.com/assets/colab-badge.svg\" alt=\"Open In Colab\"/></a>"
      ]
    },
    {
      "cell_type": "code",
      "source": [
        "%%capture\n",
        "!pip install networkx"
      ],
      "metadata": {
        "id": "t-8CbjyqKyoF"
      },
      "execution_count": 1,
      "outputs": []
    },
    {
      "cell_type": "markdown",
      "metadata": {
        "id": "XuXWJLEm2UWS"
      },
      "source": [
        "# **CS224W - Colab 1**"
      ]
    },
    {
      "cell_type": "markdown",
      "metadata": {
        "id": "8gzsP50bF6Gb"
      },
      "source": [
        "In this Colab, we will write a full pipeline for **learning node embeddings**.\n",
        "We will go through the following 3 steps.\n",
        "\n",
        "To start, we will load a classic graph in network science, the [Karate Club Network](https://en.wikipedia.org/wiki/Zachary%27s_karate_club). We will explore multiple graph statistics for that graph.\n",
        "\n",
        "We will then work together to transform the graph structure into a PyTorch tensor, so that we can perform machine learning over the graph.\n",
        "\n",
        "Finally, we will finish the first learning algorithm on graphs: a node embedding model. For simplicity, our model here is simpler than DeepWalk / node2vec algorithms taught in the lecture. But it's still rewarding and challenging, as we will write it from scratch via PyTorch.\n",
        "\n",
        "Now let's get started! This Colab should take roughly 1 hour to complete.\n",
        "\n",
        "**Note**: Make sure to **restart and run all** before submission, so that the intermediate variables / packages will carry over to the next cell"
      ]
    },
    {
      "cell_type": "markdown",
      "metadata": {
        "id": "Nwwq0nSdmsOL"
      },
      "source": [
        "# 1 Graph Basics\n",
        "To start, we will load a classic graph in network science, the [Karate Club Network](https://en.wikipedia.org/wiki/Zachary%27s_karate_club). We will explore multiple graph statistics for that graph."
      ]
    },
    {
      "cell_type": "markdown",
      "metadata": {
        "id": "FDkpByYYfSzb"
      },
      "source": [
        "## Setup\n",
        "We will heavily use NetworkX in this Colab."
      ]
    },
    {
      "cell_type": "code",
      "metadata": {
        "id": "VWPkJjPAfVNW"
      },
      "source": [
        "import networkx as nx"
      ],
      "execution_count": 2,
      "outputs": []
    },
    {
      "cell_type": "markdown",
      "metadata": {
        "id": "VqUnYT5qUZYh"
      },
      "source": [
        "## Zachary's karate club network\n",
        "\n",
        "The [Karate Club Network](https://en.wikipedia.org/wiki/Zachary%27s_karate_club) is a graph which describes a social network of 34 members of a karate club and documents links between members who interacted outside the club."
      ]
    },
    {
      "cell_type": "code",
      "metadata": {
        "id": "VIETqEfrfy5Y",
        "colab": {
          "base_uri": "https://localhost:8080/",
          "height": 187
        },
        "outputId": "d21428af-05e0-400b-db42-eb4964562e08"
      },
      "source": [
        "G = nx.karate_club_graph()\n",
        "\n",
        "# G is an undirected graph\n",
        "type(G)"
      ],
      "execution_count": 3,
      "outputs": [
        {
          "output_type": "execute_result",
          "data": {
            "text/plain": [
              "networkx.classes.graph.Graph"
            ],
            "text/html": [
              "<div style=\"max-width:800px; border: 1px solid var(--colab-border-color);\"><style>\n",
              "      pre.function-repr-contents {\n",
              "        overflow-x: auto;\n",
              "        padding: 8px 12px;\n",
              "        max-height: 500px;\n",
              "      }\n",
              "\n",
              "      pre.function-repr-contents.function-repr-contents-collapsed {\n",
              "        cursor: pointer;\n",
              "        max-height: 100px;\n",
              "      }\n",
              "    </style>\n",
              "    <pre style=\"white-space: initial; background:\n",
              "         var(--colab-secondary-surface-color); padding: 8px 12px;\n",
              "         border-bottom: 1px solid var(--colab-border-color);\"><b>networkx.classes.graph.Graph</b><br/>def __init__(incoming_graph_data=None, **attr)</pre><pre class=\"function-repr-contents function-repr-contents-collapsed\" style=\"\"><a class=\"filepath\" style=\"display:none\" href=\"#\">/usr/local/lib/python3.10/dist-packages/networkx/classes/graph.py</a>Base class for undirected graphs.\n",
              "\n",
              "A Graph stores nodes and edges with optional data, or attributes.\n",
              "\n",
              "Graphs hold undirected edges.  Self loops are allowed but multiple\n",
              "(parallel) edges are not.\n",
              "\n",
              "Nodes can be arbitrary (hashable) Python objects with optional\n",
              "key/value attributes, except that `None` is not allowed as a node.\n",
              "\n",
              "Edges are represented as links between nodes with optional\n",
              "key/value attributes.\n",
              "\n",
              "Parameters\n",
              "----------\n",
              "incoming_graph_data : input graph (optional, default: None)\n",
              "    Data to initialize graph. If None (default) an empty\n",
              "    graph is created.  The data can be any format that is supported\n",
              "    by the to_networkx_graph() function, currently including edge list,\n",
              "    dict of dicts, dict of lists, NetworkX graph, 2D NumPy array, SciPy\n",
              "    sparse matrix, or PyGraphviz graph.\n",
              "\n",
              "attr : keyword arguments, optional (default= no attributes)\n",
              "    Attributes to add to graph as key=value pairs.\n",
              "\n",
              "See Also\n",
              "--------\n",
              "DiGraph\n",
              "MultiGraph\n",
              "MultiDiGraph\n",
              "\n",
              "Examples\n",
              "--------\n",
              "Create an empty graph structure (a &quot;null graph&quot;) with no nodes and\n",
              "no edges.\n",
              "\n",
              "&gt;&gt;&gt; G = nx.Graph()\n",
              "\n",
              "G can be grown in several ways.\n",
              "\n",
              "**Nodes:**\n",
              "\n",
              "Add one node at a time:\n",
              "\n",
              "&gt;&gt;&gt; G.add_node(1)\n",
              "\n",
              "Add the nodes from any container (a list, dict, set or\n",
              "even the lines from a file or the nodes from another graph).\n",
              "\n",
              "&gt;&gt;&gt; G.add_nodes_from([2, 3])\n",
              "&gt;&gt;&gt; G.add_nodes_from(range(100, 110))\n",
              "&gt;&gt;&gt; H = nx.path_graph(10)\n",
              "&gt;&gt;&gt; G.add_nodes_from(H)\n",
              "\n",
              "In addition to strings and integers any hashable Python object\n",
              "(except None) can represent a node, e.g. a customized node object,\n",
              "or even another Graph.\n",
              "\n",
              "&gt;&gt;&gt; G.add_node(H)\n",
              "\n",
              "**Edges:**\n",
              "\n",
              "G can also be grown by adding edges.\n",
              "\n",
              "Add one edge,\n",
              "\n",
              "&gt;&gt;&gt; G.add_edge(1, 2)\n",
              "\n",
              "a list of edges,\n",
              "\n",
              "&gt;&gt;&gt; G.add_edges_from([(1, 2), (1, 3)])\n",
              "\n",
              "or a collection of edges,\n",
              "\n",
              "&gt;&gt;&gt; G.add_edges_from(H.edges)\n",
              "\n",
              "If some edges connect nodes not yet in the graph, the nodes\n",
              "are added automatically.  There are no errors when adding\n",
              "nodes or edges that already exist.\n",
              "\n",
              "**Attributes:**\n",
              "\n",
              "Each graph, node, and edge can hold key/value attribute pairs\n",
              "in an associated attribute dictionary (the keys must be hashable).\n",
              "By default these are empty, but can be added or changed using\n",
              "add_edge, add_node or direct manipulation of the attribute\n",
              "dictionaries named graph, node and edge respectively.\n",
              "\n",
              "&gt;&gt;&gt; G = nx.Graph(day=&quot;Friday&quot;)\n",
              "&gt;&gt;&gt; G.graph\n",
              "{&#x27;day&#x27;: &#x27;Friday&#x27;}\n",
              "\n",
              "Add node attributes using add_node(), add_nodes_from() or G.nodes\n",
              "\n",
              "&gt;&gt;&gt; G.add_node(1, time=&quot;5pm&quot;)\n",
              "&gt;&gt;&gt; G.add_nodes_from([3], time=&quot;2pm&quot;)\n",
              "&gt;&gt;&gt; G.nodes[1]\n",
              "{&#x27;time&#x27;: &#x27;5pm&#x27;}\n",
              "&gt;&gt;&gt; G.nodes[1][&quot;room&quot;] = 714  # node must exist already to use G.nodes\n",
              "&gt;&gt;&gt; del G.nodes[1][&quot;room&quot;]  # remove attribute\n",
              "&gt;&gt;&gt; list(G.nodes(data=True))\n",
              "[(1, {&#x27;time&#x27;: &#x27;5pm&#x27;}), (3, {&#x27;time&#x27;: &#x27;2pm&#x27;})]\n",
              "\n",
              "Add edge attributes using add_edge(), add_edges_from(), subscript\n",
              "notation, or G.edges.\n",
              "\n",
              "&gt;&gt;&gt; G.add_edge(1, 2, weight=4.7)\n",
              "&gt;&gt;&gt; G.add_edges_from([(3, 4), (4, 5)], color=&quot;red&quot;)\n",
              "&gt;&gt;&gt; G.add_edges_from([(1, 2, {&quot;color&quot;: &quot;blue&quot;}), (2, 3, {&quot;weight&quot;: 8})])\n",
              "&gt;&gt;&gt; G[1][2][&quot;weight&quot;] = 4.7\n",
              "&gt;&gt;&gt; G.edges[1, 2][&quot;weight&quot;] = 4\n",
              "\n",
              "Warning: we protect the graph data structure by making `G.edges` a\n",
              "read-only dict-like structure. However, you can assign to attributes\n",
              "in e.g. `G.edges[1, 2]`. Thus, use 2 sets of brackets to add/change\n",
              "data attributes: `G.edges[1, 2][&#x27;weight&#x27;] = 4`\n",
              "(For multigraphs: `MG.edges[u, v, key][name] = value`).\n",
              "\n",
              "**Shortcuts:**\n",
              "\n",
              "Many common graph features allow python syntax to speed reporting.\n",
              "\n",
              "&gt;&gt;&gt; 1 in G  # check if node in graph\n",
              "True\n",
              "&gt;&gt;&gt; [n for n in G if n &lt; 3]  # iterate through nodes\n",
              "[1, 2]\n",
              "&gt;&gt;&gt; len(G)  # number of nodes in graph\n",
              "5\n",
              "\n",
              "Often the best way to traverse all edges of a graph is via the neighbors.\n",
              "The neighbors are reported as an adjacency-dict `G.adj` or `G.adjacency()`\n",
              "\n",
              "&gt;&gt;&gt; for n, nbrsdict in G.adjacency():\n",
              "...     for nbr, eattr in nbrsdict.items():\n",
              "...         if &quot;weight&quot; in eattr:\n",
              "...             # Do something useful with the edges\n",
              "...             pass\n",
              "\n",
              "But the edges() method is often more convenient:\n",
              "\n",
              "&gt;&gt;&gt; for u, v, weight in G.edges.data(&quot;weight&quot;):\n",
              "...     if weight is not None:\n",
              "...         # Do something useful with the edges\n",
              "...         pass\n",
              "\n",
              "**Reporting:**\n",
              "\n",
              "Simple graph information is obtained using object-attributes and methods.\n",
              "Reporting typically provides views instead of containers to reduce memory\n",
              "usage. The views update as the graph is updated similarly to dict-views.\n",
              "The objects `nodes`, `edges` and `adj` provide access to data attributes\n",
              "via lookup (e.g. `nodes[n]`, `edges[u, v]`, `adj[u][v]`) and iteration\n",
              "(e.g. `nodes.items()`, `nodes.data(&#x27;color&#x27;)`,\n",
              "`nodes.data(&#x27;color&#x27;, default=&#x27;blue&#x27;)` and similarly for `edges`)\n",
              "Views exist for `nodes`, `edges`, `neighbors()`/`adj` and `degree`.\n",
              "\n",
              "For details on these and other miscellaneous methods, see below.\n",
              "\n",
              "**Subclasses (Advanced):**\n",
              "\n",
              "The Graph class uses a dict-of-dict-of-dict data structure.\n",
              "The outer dict (node_dict) holds adjacency information keyed by node.\n",
              "The next dict (adjlist_dict) represents the adjacency information and holds\n",
              "edge data keyed by neighbor.  The inner dict (edge_attr_dict) represents\n",
              "the edge data and holds edge attribute values keyed by attribute names.\n",
              "\n",
              "Each of these three dicts can be replaced in a subclass by a user defined\n",
              "dict-like object. In general, the dict-like features should be\n",
              "maintained but extra features can be added. To replace one of the\n",
              "dicts create a new graph class by changing the class(!) variable\n",
              "holding the factory for that dict-like structure.\n",
              "\n",
              "node_dict_factory : function, (default: dict)\n",
              "    Factory function to be used to create the dict containing node\n",
              "    attributes, keyed by node id.\n",
              "    It should require no arguments and return a dict-like object\n",
              "\n",
              "node_attr_dict_factory: function, (default: dict)\n",
              "    Factory function to be used to create the node attribute\n",
              "    dict which holds attribute values keyed by attribute name.\n",
              "    It should require no arguments and return a dict-like object\n",
              "\n",
              "adjlist_outer_dict_factory : function, (default: dict)\n",
              "    Factory function to be used to create the outer-most dict\n",
              "    in the data structure that holds adjacency info keyed by node.\n",
              "    It should require no arguments and return a dict-like object.\n",
              "\n",
              "adjlist_inner_dict_factory : function, (default: dict)\n",
              "    Factory function to be used to create the adjacency list\n",
              "    dict which holds edge data keyed by neighbor.\n",
              "    It should require no arguments and return a dict-like object\n",
              "\n",
              "edge_attr_dict_factory : function, (default: dict)\n",
              "    Factory function to be used to create the edge attribute\n",
              "    dict which holds attribute values keyed by attribute name.\n",
              "    It should require no arguments and return a dict-like object.\n",
              "\n",
              "graph_attr_dict_factory : function, (default: dict)\n",
              "    Factory function to be used to create the graph attribute\n",
              "    dict which holds attribute values keyed by attribute name.\n",
              "    It should require no arguments and return a dict-like object.\n",
              "\n",
              "Typically, if your extension doesn&#x27;t impact the data structure all\n",
              "methods will inherit without issue except: `to_directed/to_undirected`.\n",
              "By default these methods create a DiGraph/Graph class and you probably\n",
              "want them to create your extension of a DiGraph/Graph. To facilitate\n",
              "this we define two class variables that you can set in your subclass.\n",
              "\n",
              "to_directed_class : callable, (default: DiGraph or MultiDiGraph)\n",
              "    Class to create a new graph structure in the `to_directed` method.\n",
              "    If `None`, a NetworkX class (DiGraph or MultiDiGraph) is used.\n",
              "\n",
              "to_undirected_class : callable, (default: Graph or MultiGraph)\n",
              "    Class to create a new graph structure in the `to_undirected` method.\n",
              "    If `None`, a NetworkX class (Graph or MultiGraph) is used.\n",
              "\n",
              "**Subclassing Example**\n",
              "\n",
              "Create a low memory graph class that effectively disallows edge\n",
              "attributes by using a single attribute dict for all edges.\n",
              "This reduces the memory used, but you lose edge attributes.\n",
              "\n",
              "&gt;&gt;&gt; class ThinGraph(nx.Graph):\n",
              "...     all_edge_dict = {&quot;weight&quot;: 1}\n",
              "...\n",
              "...     def single_edge_dict(self):\n",
              "...         return self.all_edge_dict\n",
              "...\n",
              "...     edge_attr_dict_factory = single_edge_dict\n",
              "&gt;&gt;&gt; G = ThinGraph()\n",
              "&gt;&gt;&gt; G.add_edge(2, 1)\n",
              "&gt;&gt;&gt; G[2][1]\n",
              "{&#x27;weight&#x27;: 1}\n",
              "&gt;&gt;&gt; G.add_edge(2, 2)\n",
              "&gt;&gt;&gt; G[2][1] is G[2][2]\n",
              "True</pre>\n",
              "      <script>\n",
              "      if (google.colab.kernel.accessAllowed && google.colab.files && google.colab.files.view) {\n",
              "        for (const element of document.querySelectorAll('.filepath')) {\n",
              "          element.style.display = 'block'\n",
              "          element.onclick = (event) => {\n",
              "            event.preventDefault();\n",
              "            event.stopPropagation();\n",
              "            google.colab.files.view(element.textContent, 66);\n",
              "          };\n",
              "        }\n",
              "      }\n",
              "      for (const element of document.querySelectorAll('.function-repr-contents')) {\n",
              "        element.onclick = (event) => {\n",
              "          event.preventDefault();\n",
              "          event.stopPropagation();\n",
              "          element.classList.toggle('function-repr-contents-collapsed');\n",
              "        };\n",
              "      }\n",
              "      </script>\n",
              "      </div>"
            ]
          },
          "metadata": {},
          "execution_count": 3
        }
      ]
    },
    {
      "cell_type": "code",
      "metadata": {
        "id": "hDvf3nm-ors4",
        "colab": {
          "base_uri": "https://localhost:8080/",
          "height": 516
        },
        "outputId": "d33bf05f-8381-4630-874b-2a8a16101150"
      },
      "source": [
        "# Visualize the graph\n",
        "nx.draw(G, with_labels = True)"
      ],
      "execution_count": 4,
      "outputs": [
        {
          "output_type": "display_data",
          "data": {
            "text/plain": [
              "<Figure size 640x480 with 1 Axes>"
            ],
            "image/png": "[encoded data removed]"
          },
          "metadata": {}
        }
      ]
    },
    {
      "cell_type": "markdown",
      "metadata": {
        "id": "FX25Y1CrYmgN"
      },
      "source": [
        "## Question 1: What is the average degree of the karate club network? (5 Points)"
      ]
    },
    {
      "cell_type": "code",
      "metadata": {
        "id": "AUhES1VYo3tB",
        "colab": {
          "base_uri": "https://localhost:8080/"
        },
        "outputId": "c5df64b3-9af8-4dbe-8c36-b8787dcf9055"
      },
      "source": [
        "def average_degree(num_edges, num_nodes):\n",
        "  # TODO: Implement this function that takes number of edges\n",
        "  # and number of nodes, and returns the average node degree of\n",
        "  # the graph. Round the result to nearest integer (for example\n",
        "  # 3.3 will be rounded to 3 and 3.7 will be rounded to 4)\n",
        "\n",
        "  avg_degree = 0\n",
        "\n",
        "  ############# Your code here ############\n",
        "  avg_degree = round(num_edges/num_nodes)\n",
        "  #########################################\n",
        "\n",
        "  return avg_degree\n",
        "\n",
        "num_edges = G.number_of_edges()\n",
        "num_nodes = G.number_of_nodes()\n",
        "avg_degree = average_degree(num_edges, num_nodes)\n",
        "print(\"Average degree of karate club network is {}\".format(avg_degree))"
      ],
      "execution_count": 5,
      "outputs": [
        {
          "output_type": "stream",
          "name": "stdout",
          "text": [
            "Average degree of karate club network is 2\n"
          ]
        }
      ]
    },
    {
      "cell_type": "markdown",
      "metadata": {
        "id": "Fk02fD4vYmZI"
      },
      "source": [
        "## Question 2: What is the average clustering coefficient of the karate club network? (5 Points)"
      ]
    },
    {
      "cell_type": "code",
      "metadata": {
        "id": "k15XKEto1aYJ",
        "colab": {
          "base_uri": "https://localhost:8080/"
        },
        "outputId": "279672ba-4ab3-4fc2-ad5a-a42e40955fd2"
      },
      "source": [
        "def average_clustering_coefficient(G):\n",
        "  # TODO: Implement this function that takes a nx.Graph\n",
        "  # and returns the average clustering coefficient. Round\n",
        "  # the result to 2 decimal places (for example 3.333 will\n",
        "  # be rounded to 3.33 and 3.7571 will be rounded to 3.76)\n",
        "\n",
        "  avg_cluster_coef = 0\n",
        "\n",
        "  ############# Your code here ############\n",
        "  ## Note:\n",
        "  ## 1: Please use the appropriate NetworkX clustering function\n",
        "  avg_cluster_coef = round(nx.average_clustering(G), 2)\n",
        "  #########################################\n",
        "\n",
        "  return avg_cluster_coef\n",
        "\n",
        "avg_cluster_coef = average_clustering_coefficient(G)\n",
        "print(\"Average clustering coefficient of karate club network is {}\".format(avg_cluster_coef))"
      ],
      "execution_count": 6,
      "outputs": [
        {
          "output_type": "stream",
          "name": "stdout",
          "text": [
            "Average clustering coefficient of karate club network is 0.57\n"
          ]
        }
      ]
    },
    {
      "cell_type": "markdown",
      "metadata": {
        "id": "zghQ-AhXYmP4"
      },
      "source": [
        "## Question 3: What is the PageRank value for node 0 (node with id 0) after one PageRank iteration? (5 Points)\n",
        "\n",
        "Page Rank measures importance of nodes in a graph using the link structure of the web. A “vote” from an important page is worth more. Specifically, if  a page $i$ with importance $r_i$ has $d_i$ out-links, then each link gets $\\frac{r_i}{d_i}$ votes. Thus, the importance of a Page $j$, represented as $r_j$ is the sum of the votes on its in links.\n",
        "$$r_j = \\sum_{i \\rightarrow j} \\frac{r_i}{d_i}$$, where $d_i$ is the out degree of node $i$.\n",
        "\n",
        "The PageRank algorithm (used by Google) outputs a probability distribution which represent the likelihood of a random surfer clicking on links will arrive at any particular page. At each time step, the random surfer has two options\n",
        "- With prob. $\\beta$, follow a link at random\n",
        "- With prob. $1- \\beta$, jump to a random page\n",
        "\n",
        "Thus, the importance of a particular page is calculated with the following PageRank equation:\n",
        " $$r_j = \\sum_{i \\rightarrow j} \\beta \\frac{r_i}{d_i} + (1 - \\beta) \\frac{1}{N}$$\n",
        "\n",
        "Please complete the code block by implementing the above PageRank equation for node 0.\n",
        "\n",
        "Note - You can refer to more information from the slides here - http://snap.stanford.edu/class/cs224w-2020/slides/04-pagerank.pdf\n",
        "\n",
        "\n"
      ]
    },
    {
      "cell_type": "code",
      "metadata": {
        "id": "BOGdWjNc6O7x",
        "colab": {
          "base_uri": "https://localhost:8080/"
        },
        "outputId": "06208e78-40b9-4205-8e7a-e7b9bf99532c"
      },
      "source": [
        "def one_iter_pagerank(G, beta, r0, node_id):\n",
        "  # TODO: Implement this function that takes a nx.Graph, beta, r0 and node id.\n",
        "  # The return value r1 is one interation PageRank value for the input node.\n",
        "  # Please round r1 to 2 decimal places.\n",
        "\n",
        "  r1 = 0\n",
        "\n",
        "  ############# Your code here ############\n",
        "  ## Note:\n",
        "  ## 1: You should not use nx.pagerank\n",
        "  for neighbor_id in G.neighbors(node_id):\n",
        "    r1 += beta*r0/G.degree[neighbor_id]\n",
        "  r1 += (1-beta)/G.number_of_nodes()\n",
        "  print(r1)\n",
        "  r1 = round(r1, 2)\n",
        "  #########################################\n",
        "\n",
        "  return r1\n",
        "\n",
        "beta = 0.8\n",
        "r0 = 1 / G.number_of_nodes() # PageRank 的初始值\n",
        "node = 0\n",
        "r1 = one_iter_pagerank(G, beta, r0, node)\n",
        "print(\"The PageRank value for node 0 after one iteration is {}\".format(r1))"
      ],
      "execution_count": 7,
      "outputs": [
        {
          "output_type": "stream",
          "name": "stdout",
          "text": [
            "0.12810457516339868\n",
            "The PageRank value for node 0 after one iteration is 0.13\n"
          ]
        }
      ]
    },
    {
      "cell_type": "code",
      "source": [
        "import numpy as np\n",
        "\n",
        "np.array(nx.adjacency_matrix(G).todense())"
      ],
      "metadata": {
        "id": "PxCuIKUKMbu5",
        "outputId": "97d2ab54-dd11-4ad5-a2fe-63f1f0551a91",
        "colab": {
          "base_uri": "https://localhost:8080/"
        }
      },
      "execution_count": 9,
      "outputs": [
        {
          "output_type": "execute_result",
          "data": {
            "text/plain": [
              "array([[0, 4, 5, ..., 2, 0, 0],\n",
              "       [4, 0, 6, ..., 0, 0, 0],\n",
              "       [5, 6, 0, ..., 0, 2, 0],\n",
              "       ...,\n",
              "       [2, 0, 0, ..., 0, 4, 4],\n",
              "       [0, 0, 2, ..., 4, 0, 5],\n",
              "       [0, 0, 0, ..., 4, 5, 0]])"
            ]
          },
          "metadata": {},
          "execution_count": 9
        }
      ]
    },
    {
      "cell_type": "code",
      "source": [
        "import math\n",
        "\n",
        "nx.pagerank(G, alpha=0.8, max_iter=1, tol=math.inf, weight=None)[0]"
      ],
      "metadata": {
        "id": "pzdx1GRRF9YL",
        "outputId": "e53a6b30-f50b-47f9-a1a3-e0df3a7bfd7c",
        "colab": {
          "base_uri": "https://localhost:8080/"
        }
      },
      "execution_count": 10,
      "outputs": [
        {
          "output_type": "execute_result",
          "data": {
            "text/plain": [
              "0.1281045751633987"
            ]
          },
          "metadata": {},
          "execution_count": 10
        }
      ]
    },
    {
      "cell_type": "code",
      "source": [
        "nx.pagerank(G, alpha=0.8, max_iter=1, tol=math.inf)[0]"
      ],
      "metadata": {
        "colab": {
          "base_uri": "https://localhost:8080/"
        },
        "id": "VTeZLzpbPwz5",
        "outputId": "132b60c5-3311-4b1d-e92d-21b10333371d"
      },
      "execution_count": 11,
      "outputs": [
        {
          "output_type": "execute_result",
          "data": {
            "text/plain": [
              "0.12084791436539437"
            ]
          },
          "metadata": {},
          "execution_count": 11
        }
      ]
    },
    {
      "cell_type": "code",
      "source": [
        "adj_matrix = np.array(nx.adjacency_matrix(G, weight=None).todense())\n",
        "adj_matrix = adj_matrix / adj_matrix.sum(axis=0, keepdims=True)\n",
        "\n",
        "num_nodes = adj_matrix.shape[0]\n",
        "pagerank = np.ones(num_nodes) / num_nodes\n",
        "\n",
        "damping_factor = 0.8\n",
        "new_pagerank = (1 - damping_factor) / num_nodes + damping_factor * adj_matrix @ pagerank\n",
        "new_pagerank[0]"
      ],
      "metadata": {
        "id": "CgyqQtSwLBu9",
        "outputId": "0925db32-67ff-4ca7-fcd0-91754b77e524",
        "colab": {
          "base_uri": "https://localhost:8080/"
        }
      },
      "execution_count": 12,
      "outputs": [
        {
          "output_type": "execute_result",
          "data": {
            "text/plain": [
              "0.12810457516339868"
            ]
          },
          "metadata": {},
          "execution_count": 12
        }
      ]
    },
    {
      "cell_type": "markdown",
      "metadata": {
        "id": "icTcOULeYmIu"
      },
      "source": [
        "## Question 4: What is the (raw) closeness centrality for the karate club network node 5? (5 Points)\n",
        "\n",
        "The equation for closeness centrality is $c(v) = \\frac{1}{\\sum_{u \\neq v}\\text{shortest path length between } u \\text{ and } v}$"
      ]
    },
    {
      "cell_type": "code",
      "metadata": {
        "id": "XbCsq_tl-3ok",
        "colab": {
          "base_uri": "https://localhost:8080/"
        },
        "outputId": "938b99ed-1380-42d7-8e30-5c0e2d417c54"
      },
      "source": [
        "def closeness_centrality(G, node=5):\n",
        "  # TODO: Implement the function that calculates closeness centrality\n",
        "  # for a node in karate club network. G is the input karate club\n",
        "  # network and node is the node id in the graph. Please round the\n",
        "  # closeness centrality result to 2 decimal places.\n",
        "\n",
        "  closeness = 0\n",
        "\n",
        "  ## Note:\n",
        "  ## 1: You can use networkx closeness centrality function.\n",
        "  ## 2: Notice that networkx closeness centrality returns the normalized\n",
        "  ## closeness directly, which is different from the raw (unnormalized)\n",
        "  ## one that we learned in the lecture.\n",
        "  closeness = round(nx.closeness_centrality(G, node)/(G.number_of_nodes()-1), 2)\n",
        "  #########################################\n",
        "\n",
        "  return closeness\n",
        "\n",
        "node = 5\n",
        "closeness = closeness_centrality(G, node=node)\n",
        "print(\"The node 5 has closeness centrality {}\".format(closeness))"
      ],
      "execution_count": 13,
      "outputs": [
        {
          "output_type": "stream",
          "name": "stdout",
          "text": [
            "The node 5 has closeness centrality 0.01\n"
          ]
        }
      ]
    },
    {
      "cell_type": "markdown",
      "metadata": {
        "id": "-MxvowibYl4x"
      },
      "source": [
        "# 2 Graph to Tensor\n",
        "We will then work together to transform the graph $G$ into a PyTorch tensor, so that we can perform machine learning over the graph."
      ]
    },
    {
      "cell_type": "markdown",
      "metadata": {
        "id": "eDA8PosrA-9V"
      },
      "source": [
        "## Setup\n",
        "Check if PyTorch is properly installed"
      ]
    },
    {
      "cell_type": "code",
      "metadata": {
        "id": "ntuPVat_BAf1",
        "colab": {
          "base_uri": "https://localhost:8080/"
        },
        "outputId": "e699b0ae-6fa7-4b7d-811a-fc31f24768e5"
      },
      "source": [
        "import torch\n",
        "print(torch.__version__)"
      ],
      "execution_count": 14,
      "outputs": [
        {
          "output_type": "stream",
          "name": "stdout",
          "text": [
            "2.4.1+cu121\n"
          ]
        }
      ]
    },
    {
      "cell_type": "markdown",
      "metadata": {
        "id": "fko_2wSKYlun"
      },
      "source": [
        "## PyTorch tensor basics\n",
        "\n",
        "We can generate PyTorch tensor with all zeros, ones or random values."
      ]
    },
    {
      "cell_type": "code",
      "metadata": {
        "id": "W2ySw3m-A9qF",
        "colab": {
          "base_uri": "https://localhost:8080/"
        },
        "outputId": "3d3d3ae1-c89b-456a-adcc-46bc7043f0dc"
      },
      "source": [
        "# Generate 3 x 4 tensor with all ones\n",
        "ones = torch.ones(3, 4)\n",
        "print(ones)\n",
        "\n",
        "# Generate 3 x 4 tensor with all zeros\n",
        "zeros = torch.zeros(3, 4)\n",
        "print(zeros)\n",
        "\n",
        "# Generate 3 x 4 tensor with random values on the interval [0, 1)\n",
        "random_tensor = torch.rand(3, 4)\n",
        "print(random_tensor)\n",
        "\n",
        "# Get the shape of the tensor\n",
        "print(ones.shape)"
      ],
      "execution_count": 15,
      "outputs": [
        {
          "output_type": "stream",
          "name": "stdout",
          "text": [
            "tensor([[1., 1., 1., 1.],\n",
            "        [1., 1., 1., 1.],\n",
            "        [1., 1., 1., 1.]])\n",
            "tensor([[0., 0., 0., 0.],\n",
            "        [0., 0., 0., 0.],\n",
            "        [0., 0., 0., 0.]])\n",
            "tensor([[0.6631, 0.8190, 0.6913, 0.9431],\n",
            "        [0.1306, 0.2396, 0.8368, 0.3199],\n",
            "        [0.2594, 0.6831, 0.0926, 0.8117]])\n",
            "torch.Size([3, 4])\n"
          ]
        }
      ]
    },
    {
      "cell_type": "markdown",
      "metadata": {
        "id": "x8mp66eHBxWC"
      },
      "source": [
        "PyTorch tensor contains elements for a single data type, the `dtype`."
      ]
    },
    {
      "cell_type": "code",
      "metadata": {
        "id": "rQiOvKJJBwq4",
        "colab": {
          "base_uri": "https://localhost:8080/"
        },
        "outputId": "b23f5dde-ed3b-4b66-93a4-809749aa65d0"
      },
      "source": [
        "# Create a 3 x 4 tensor with all 32-bit floating point zeros\n",
        "zeros = torch.zeros(3, 4, dtype=torch.float32)\n",
        "print(zeros.dtype)\n",
        "\n",
        "# Change the tensor dtype to 64-bit integer\n",
        "zeros = zeros.type(torch.long)\n",
        "print(zeros.dtype)"
      ],
      "execution_count": 16,
      "outputs": [
        {
          "output_type": "stream",
          "name": "stdout",
          "text": [
            "torch.float32\n",
            "torch.int64\n"
          ]
        }
      ]
    },
    {
      "cell_type": "markdown",
      "metadata": {
        "id": "I9EfegIRDkk2"
      },
      "source": [
        "## Question 5: Get the edge list of the karate club network and transform it into `torch.LongTensor`. What is the `torch.sum` value of `pos_edge_index` tensor? (10 Points)"
      ]
    },
    {
      "cell_type": "code",
      "metadata": {
        "id": "kEtVxMFID3ZT",
        "colab": {
          "base_uri": "https://localhost:8080/"
        },
        "outputId": "f841aa9c-b366-4b67-cfae-8d5b61e50a29"
      },
      "source": [
        "def graph_to_edge_list(G):\n",
        "  # TODO: Implement the function that returns the edge list of\n",
        "  # an nx.Graph. The returned edge_list should be a list of tuples\n",
        "  # where each tuple is a tuple representing an edge connected\n",
        "  # by two nodes.\n",
        "\n",
        "  edge_list = []\n",
        "\n",
        "  ############# Your code here ############\n",
        "  edge_list = list(G.edges)\n",
        "  #########################################\n",
        "\n",
        "  return edge_list\n",
        "\n",
        "def edge_list_to_tensor(edge_list):\n",
        "  # TODO: Implement the function that transforms the edge_list to\n",
        "  # tensor. The input edge_list is a list of tuples and the resulting\n",
        "  # tensor should have the shape [2, len(edge_list)].\n",
        "\n",
        "  edge_index = torch.tensor([])\n",
        "\n",
        "  ############# Your code here ############\n",
        "  edge_index = torch.tensor(list(zip(*edge_list)))\n",
        "  #########################################\n",
        "\n",
        "  return edge_index\n",
        "\n",
        "pos_edge_list = graph_to_edge_list(G)\n",
        "pos_edge_index = edge_list_to_tensor(pos_edge_list)\n",
        "print(\"The pos_edge_index tensor has shape {}\".format(pos_edge_index.shape))\n",
        "print(\"The pos_edge_index tensor has sum value {}\".format(torch.sum(pos_edge_index)))"
      ],
      "execution_count": 17,
      "outputs": [
        {
          "output_type": "stream",
          "name": "stdout",
          "text": [
            "The pos_edge_index tensor has shape torch.Size([2, 78])\n",
            "The pos_edge_index tensor has sum value 2535\n"
          ]
        }
      ]
    },
    {
      "cell_type": "markdown",
      "metadata": {
        "id": "UBL-ZmdHWqIu"
      },
      "source": [
        "## Question 6: Please implement following function that samples negative edges. Then answer which edges (edge_1 to edge_5) are the negative edges in the karate club network? (10 Points)\n",
        "\n",
        "\"Negative\" edges refer to the edges/links that do not exist in the graph. The term \"negative\" is borrowed from \"negative sampling\" in link prediction. It has nothing to do with the edge weights.\n",
        "\n",
        "For example, given an edge (src, dst), you should check that neither (src, dst) nor (dst, src) are edges in the Graph. If these hold true, then it is a negative edge."
      ]
    },
    {
      "cell_type": "code",
      "metadata": {
        "id": "9N8VT1f8-IJ8",
        "colab": {
          "base_uri": "https://localhost:8080/"
        },
        "outputId": "3106516c-685c-4156-956a-cf970a7751f3"
      },
      "source": [
        "import random\n",
        "\n",
        "def sample_negative_edges(G, num_neg_samples):\n",
        "  # TODO: Implement the function that returns a list of negative edges.\n",
        "  # The number of sampled negative edges is num_neg_samples. You do not\n",
        "  # need to consider the corner case when the number of possible negative edges\n",
        "  # is less than num_neg_samples. It should be ok as long as your implementation\n",
        "  # works on the karate club network. In this implementation, self loops should\n",
        "  # not be considered as either a positive or negative edge. Also, notice that\n",
        "  # the karate club network is an undirected graph, if (0, 1) is a positive\n",
        "  # edge, do you think (1, 0) can be a negative one?\n",
        "\n",
        "  neg_edge_list = []\n",
        "\n",
        "  ############# Your code here ############\n",
        "  # get all nodes and existing edges\n",
        "  nodes = list(G.nodes)\n",
        "  pos_edges = set((min(u, v), max(u, v)) for u, v in G.edges()) # positive edges (undirected graph)\n",
        "\n",
        "  # generate all possible pairs and filter out positive edges and self-loops\n",
        "  all_possible_edges = [(i, j) for i in nodes for j in nodes if i < j and (i, j) not in pos_edges]\n",
        "\n",
        "  # randomly sample the required number of negative edges\n",
        "  neg_edge_list = random.sample(all_possible_edges, num_neg_samples)\n",
        "  #########################################\n",
        "\n",
        "  return neg_edge_list\n",
        "\n",
        "# Sample 78 negative edges\n",
        "neg_edge_list = sample_negative_edges(G, len(pos_edge_list))\n",
        "\n",
        "# Transform the negative edge list to tensor\n",
        "neg_edge_index = edge_list_to_tensor(neg_edge_list)\n",
        "print(\"The neg_edge_index tensor has shape {}\".format(neg_edge_index.shape))\n",
        "\n",
        "# Which of following edges can be negative ones?\n",
        "edge_1 = (7, 1)\n",
        "edge_2 = (1, 33)\n",
        "edge_3 = (33, 22)\n",
        "edge_4 = (0, 4)\n",
        "edge_5 = (4, 2)\n",
        "\n",
        "############# Your code here ############\n",
        "## Note:\n",
        "## 1: For each of the 5 edges, print whether it can be negative edge\n",
        "def check_negative_edge(G, edge):\n",
        "  u, v = edge\n",
        "  if G.has_edge(u, v) or G.has_edge(v, u): # positive edge\n",
        "    return False\n",
        "  if u == v: # self-loop\n",
        "    return False\n",
        "  return True\n",
        "\n",
        "for edge in [edge_1,edge_2,edge_3,edge_4,edge_5]:\n",
        "  if check_negative_edge(G, edge):\n",
        "    print(f\"Edge {edge} can be a negative edge.\")\n",
        "  else:\n",
        "    print(f\"Edge {edge} cannot be a negative edge.\")\n",
        "#########################################"
      ],
      "execution_count": 18,
      "outputs": [
        {
          "output_type": "stream",
          "name": "stdout",
          "text": [
            "The neg_edge_index tensor has shape torch.Size([2, 78])\n",
            "Edge (7, 1) cannot be a negative edge.\n",
            "Edge (1, 33) can be a negative edge.\n",
            "Edge (33, 22) cannot be a negative edge.\n",
            "Edge (0, 4) cannot be a negative edge.\n",
            "Edge (4, 2) can be a negative edge.\n"
          ]
        }
      ]
    },
    {
      "cell_type": "markdown",
      "metadata": {
        "id": "Wk9Q-a-9qGsw"
      },
      "source": [
        "# 3 Node Emebedding Learning\n",
        "\n",
        "Finally, we will finish the first learning algorithm on graphs: a node embedding model.\n"
      ]
    },
    {
      "cell_type": "markdown",
      "metadata": {
        "id": "NDBxRQcZ_dUH"
      },
      "source": [
        "## Setup"
      ]
    },
    {
      "cell_type": "code",
      "metadata": {
        "id": "Lnqn9H6s_ehX",
        "colab": {
          "base_uri": "https://localhost:8080/"
        },
        "outputId": "af795e19-7b85-4be9-bf7e-6facfe77e06a"
      },
      "source": [
        "import torch\n",
        "import torch.nn as nn\n",
        "import matplotlib.pyplot as plt\n",
        "from sklearn.decomposition import PCA\n",
        "\n",
        "print(torch.__version__)"
      ],
      "execution_count": 19,
      "outputs": [
        {
          "output_type": "stream",
          "name": "stdout",
          "text": [
            "2.4.1+cu121\n"
          ]
        }
      ]
    },
    {
      "cell_type": "markdown",
      "metadata": {
        "id": "6gomAf8vxq0R"
      },
      "source": [
        "To write our own node embedding learning methods, we'll heavily use the [`nn.Embedding`](https://pytorch.org/docs/stable/generated/torch.nn.Embedding.html) module in PyTorch. Let's see how to use `nn.Embedding`:"
      ]
    },
    {
      "cell_type": "code",
      "metadata": {
        "id": "aRiWGuLAx5yx",
        "colab": {
          "base_uri": "https://localhost:8080/"
        },
        "outputId": "8b791e99-b27f-4449-d3db-66c49446b584"
      },
      "source": [
        "# Initialize an embedding layer\n",
        "# Suppose we want to have embedding for 4 items (e.g., nodes)\n",
        "# Each item is represented with 8 dimensional vector\n",
        "\n",
        "emb_sample = nn.Embedding(num_embeddings=4, embedding_dim=8)\n",
        "print('Sample embedding layer: {}'.format(emb_sample))"
      ],
      "execution_count": 20,
      "outputs": [
        {
          "output_type": "stream",
          "name": "stdout",
          "text": [
            "Sample embedding layer: Embedding(4, 8)\n"
          ]
        }
      ]
    },
    {
      "cell_type": "markdown",
      "metadata": {
        "id": "bS9qQfeujEVh"
      },
      "source": [
        "We can select items from the embedding matrix, by using Tensor indices"
      ]
    },
    {
      "cell_type": "code",
      "metadata": {
        "id": "9AGIfP4QEDr8",
        "colab": {
          "base_uri": "https://localhost:8080/"
        },
        "outputId": "3d424c3c-b3d7-4542-bba7-135fdff3e82e"
      },
      "source": [
        "# Select an embedding in emb_sample\n",
        "id = torch.LongTensor([1])\n",
        "print(emb_sample(id))\n",
        "\n",
        "# Select multiple embeddings\n",
        "ids = torch.LongTensor([1, 3])\n",
        "print(emb_sample(ids))\n",
        "\n",
        "# Get the shape of the embedding weight matrix\n",
        "shape = emb_sample.weight.data.shape\n",
        "print(shape)\n",
        "\n",
        "# Overwrite the weight to tensor with all ones\n",
        "emb_sample.weight.data = torch.ones(shape)\n",
        "\n",
        "# Let's check if the emb is indeed initilized\n",
        "ids = torch.LongTensor([0, 3])\n",
        "print(emb_sample(ids))"
      ],
      "execution_count": 21,
      "outputs": [
        {
          "output_type": "stream",
          "name": "stdout",
          "text": [
            "tensor([[ 0.3729, -0.4234, -0.1231,  0.6969, -0.0654,  0.4196,  1.2445,  0.7392]],\n",
            "       grad_fn=<EmbeddingBackward0>)\n",
            "tensor([[ 0.3729, -0.4234, -0.1231,  0.6969, -0.0654,  0.4196,  1.2445,  0.7392],\n",
            "        [-0.0103,  1.4162,  0.8918,  1.5031,  0.7282,  0.5824, -0.5184, -0.4723]],\n",
            "       grad_fn=<EmbeddingBackward0>)\n",
            "torch.Size([4, 8])\n",
            "tensor([[1., 1., 1., 1., 1., 1., 1., 1.],\n",
            "        [1., 1., 1., 1., 1., 1., 1., 1.]], grad_fn=<EmbeddingBackward0>)\n"
          ]
        }
      ]
    },
    {
      "cell_type": "markdown",
      "metadata": {
        "id": "8MjBuDKaKIsM"
      },
      "source": [
        "Now, it's your time to create node embedding matrix for the graph we have!\n",
        "- We want to have **16 dimensional** vector for each node in the karate club network.\n",
        "- We want to initalize the matrix under **uniform distribution**, in the range of $[0, 1)$. We suggest you using [`torch.rand`](https://pytorch.org/docs/stable/generated/torch.rand.html)."
      ]
    },
    {
      "cell_type": "code",
      "metadata": {
        "id": "hMszSwRPKGn1",
        "colab": {
          "base_uri": "https://localhost:8080/"
        },
        "outputId": "27fcda65-0a6c-4383-a7bc-499da8c44b1e"
      },
      "source": [
        "# Please do not change / reset the random seed\n",
        "torch.manual_seed(1)\n",
        "\n",
        "def create_node_emb(num_node=34, embedding_dim=16):\n",
        "  # TODO: Implement this function that will create the node embedding matrix.\n",
        "  # A torch.nn.Embedding layer will be returned. You do not need to change\n",
        "  # the values of num_node and embedding_dim. The weight matrix of returned\n",
        "  # layer should be initialized under uniform distribution.\n",
        "\n",
        "  emb = None\n",
        "\n",
        "  ############# Your code here ############\n",
        "  emb = nn.Embedding(num_embeddings=num_node, embedding_dim=embedding_dim)\n",
        "  emb.weight.data = torch.rand(emb.weight.data.shape)\n",
        "  #########################################\n",
        "\n",
        "  return emb\n",
        "\n",
        "emb = create_node_emb()\n",
        "ids = torch.LongTensor([0, 3])\n",
        "\n",
        "# Print the embedding layer\n",
        "print(\"Embedding: {}\".format(emb))\n",
        "\n",
        "# An example that gets the embeddings for node 0 and 3\n",
        "print(emb(ids))"
      ],
      "execution_count": 22,
      "outputs": [
        {
          "output_type": "stream",
          "name": "stdout",
          "text": [
            "Embedding: Embedding(34, 16)\n",
            "tensor([[0.2114, 0.7335, 0.1433, 0.9647, 0.2933, 0.7951, 0.5170, 0.2801, 0.8339,\n",
            "         0.1185, 0.2355, 0.5599, 0.8966, 0.2858, 0.1955, 0.1808],\n",
            "        [0.7486, 0.6546, 0.3843, 0.9820, 0.6012, 0.3710, 0.4929, 0.9915, 0.8358,\n",
            "         0.4629, 0.9902, 0.7196, 0.2338, 0.0450, 0.7906, 0.9689]],\n",
            "       grad_fn=<EmbeddingBackward0>)\n"
          ]
        }
      ]
    },
    {
      "cell_type": "markdown",
      "metadata": {
        "id": "4QfoANibTzyh"
      },
      "source": [
        "## Visualize the initial node embeddings\n",
        "One good way to understand an embedding matrix, is to visualize it in a 2D space.\n",
        "Here, we have implemented an embedding visualization function for you.\n",
        "We first do PCA to reduce the dimensionality of embeddings to a 2D space.\n",
        "Then we visualize each point, colored by the community it belongs to."
      ]
    },
    {
      "cell_type": "code",
      "source": [
        "list(G.nodes(data=True))[0]"
      ],
      "metadata": {
        "colab": {
          "base_uri": "https://localhost:8080/"
        },
        "id": "JqwKWmTmg1Wz",
        "outputId": "cb917fab-0b45-4a6a-cfcc-8526d221e087"
      },
      "execution_count": 23,
      "outputs": [
        {
          "output_type": "execute_result",
          "data": {
            "text/plain": [
              "(0, {'club': 'Mr. Hi'})"
            ]
          },
          "metadata": {},
          "execution_count": 23
        }
      ]
    },
    {
      "cell_type": "code",
      "source": [
        "import collections\n",
        "clubs = [data['club'] for _, data in G.nodes(data=True)]\n",
        "collections.Counter(clubs)"
      ],
      "metadata": {
        "colab": {
          "base_uri": "https://localhost:8080/"
        },
        "id": "n_R1oHfHhaNI",
        "outputId": "691c3d79-81ea-4a3e-fe09-d5bd54e30951"
      },
      "execution_count": 24,
      "outputs": [
        {
          "output_type": "execute_result",
          "data": {
            "text/plain": [
              "Counter({'Mr. Hi': 17, 'Officer': 17})"
            ]
          },
          "metadata": {},
          "execution_count": 24
        }
      ]
    },
    {
      "cell_type": "code",
      "metadata": {
        "id": "_LCoIkarhfYD",
        "colab": {
          "base_uri": "https://localhost:8080/",
          "height": 522
        },
        "outputId": "2c9a4d4a-715c-4c50-b100-6088ff79a4eb"
      },
      "source": [
        "def visualize_emb(emb):\n",
        "  X = emb.weight.data.numpy()\n",
        "  pca = PCA(n_components=2)\n",
        "  components = pca.fit_transform(X)\n",
        "  plt.figure(figsize=(6, 6))\n",
        "  club1_x = []\n",
        "  club1_y = []\n",
        "  club2_x = []\n",
        "  club2_y = []\n",
        "  for node in G.nodes(data=True):\n",
        "    if node[1]['club'] == 'Mr. Hi':\n",
        "      club1_x.append(components[node[0]][0])\n",
        "      club1_y.append(components[node[0]][1])\n",
        "    else:\n",
        "      club2_x.append(components[node[0]][0])\n",
        "      club2_y.append(components[node[0]][1])\n",
        "  plt.scatter(club1_x, club1_y, color=\"red\", label=\"Mr. Hi\")\n",
        "  plt.scatter(club2_x, club2_y, color=\"blue\", label=\"Officer\")\n",
        "  plt.legend()\n",
        "  plt.show()\n",
        "\n",
        "# Visualize the initial random embeddding\n",
        "visualize_emb(emb)"
      ],
      "execution_count": 25,
      "outputs": [
        {
          "output_type": "display_data",
          "data": {
            "text/plain": [
              "<Figure size 600x600 with 1 Axes>"
            ],
            "image/png": "[encoded data removed]"
          },
          "metadata": {}
        }
      ]
    },
    {
      "cell_type": "markdown",
      "metadata": {
        "id": "bQIyuEz9ANb2"
      },
      "source": [
        "## Question 7: Training the embedding! What is the best performance you can get? Please report both the best loss and accuracy on Gradescope. (20 Points)\n",
        "\n",
        "We want to optimize our embeddings for the task of classifying edges as positive or negative. Given an edge and the embeddings for each node, the dot product of the embeddings, followed by a sigmoid, should give us the likelihood of that edge being either positive (output of sigmoid > 0.5) or negative (output of sigmoid < 0.5).\n",
        "\n",
        "Note that we're using the functions you wrote in the previous questions, _as well as the variables initialized in previous cells_. If you're running into issues, make sure your answers to questions 1-6 are correct."
      ]
    },
    {
      "cell_type": "code",
      "metadata": {
        "id": "RDeQTNNxqH0j",
        "colab": {
          "base_uri": "https://localhost:8080/"
        },
        "outputId": "912fae8f-4cc4-4ba0-f3a6-0955c4ed2135"
      },
      "source": [
        "from torch.optim import SGD\n",
        "import torch.nn as nn\n",
        "\n",
        "def accuracy(pred, label):\n",
        "  # TODO: Implement the accuracy function. This function takes the\n",
        "  # pred tensor (the resulting tensor after sigmoid) and the label\n",
        "  # tensor (torch.LongTensor). Predicted value greater than 0.5 will\n",
        "  # be classified as label 1. Else it will be classified as label 0.\n",
        "  # The returned accuracy should be rounded to 4 decimal places.\n",
        "  # For example, accuracy 0.82956 will be rounded to 0.8296.\n",
        "\n",
        "  accu = 0.0\n",
        "\n",
        "  ############# Your code here ############\n",
        "  # 預測值 > 0.5 將被分類為 1，否則為 0\n",
        "  predicted_labels = (pred > 0.5).float()\n",
        "  # 計算正確預測的數量\n",
        "  correct_predictions = (predicted_labels == label).float().sum()\n",
        "  accu = correct_predictions / label.shape[0]\n",
        "  accu = round(accu.item(), 4)\n",
        "  #########################################\n",
        "\n",
        "  return accu\n",
        "\n",
        "def train(emb, loss_fn, sigmoid, train_label, train_edge):\n",
        "  # TODO: Train the embedding layer here. You can also change epochs and\n",
        "  # learning rate. In general, you need to implement:\n",
        "  # (1) Get the embeddings of the nodes in train_edge\n",
        "  # (2) Dot product the embeddings between each node pair\n",
        "  # (3) Feed the dot product result into sigmoid\n",
        "  # (4) Feed the sigmoid output into the loss_fn\n",
        "  # (5) Print both loss and accuracy of each epoch\n",
        "  # (6) Update the embeddings using the loss and optimizer\n",
        "  # (as a sanity check, the loss should decrease during training)\n",
        "\n",
        "  epochs = 500\n",
        "  learning_rate = 0.1\n",
        "\n",
        "  optimizer = SGD(emb.parameters(), lr=learning_rate, momentum=0.9)\n",
        "\n",
        "  for i in range(epochs):\n",
        "    ############# Your code here ############\n",
        "    optimizer.zero_grad()\n",
        "\n",
        "    # get the embeddings of the nodes in train_edge\n",
        "    node1_emb = emb(train_edge[0])  # get embeddings of first node in each edge\n",
        "    node2_emb = emb(train_edge[1])  # get embeddings of second node in each edge\n",
        "\n",
        "    # dot product the embeddings between each node pair\n",
        "    dot_product = (node1_emb * node2_emb).sum(dim=1)\n",
        "\n",
        "    # feed the dot product result into sigmoid\n",
        "    pred = sigmoid(dot_product)\n",
        "\n",
        "    # feed the sigmoid output into the loss_fn\n",
        "    loss = loss_fn(pred, train_label)\n",
        "\n",
        "    # print both loss and accuracy of each epoch\n",
        "    accu = accuracy(pred, train_label)\n",
        "    print(f'Epoch {i + 1}/{epochs}, Loss: {loss.item():.4f}, Accuracy: {accu*100:.2f}%')\n",
        "\n",
        "    # update the embeddings using the loss and optimizer\n",
        "    loss.backward()\n",
        "    optimizer.step()\n",
        "    pass\n",
        "    #########################################\n",
        "\n",
        "loss_fn = nn.BCELoss()\n",
        "sigmoid = nn.Sigmoid()\n",
        "\n",
        "print(pos_edge_index.shape)\n",
        "\n",
        "# Generate the positive and negative labels\n",
        "pos_label = torch.ones(pos_edge_index.shape[1], )\n",
        "neg_label = torch.zeros(neg_edge_index.shape[1], )\n",
        "\n",
        "# Concat positive and negative labels into one tensor\n",
        "train_label = torch.cat([pos_label, neg_label], dim=0)\n",
        "\n",
        "# Concat positive and negative edges into one tensor\n",
        "# Since the network is very small, we do not split the edges into val/test sets\n",
        "train_edge = torch.cat([pos_edge_index, neg_edge_index], dim=1)\n",
        "print(train_edge.shape)\n",
        "\n",
        "train(emb, loss_fn, sigmoid, train_label, train_edge)"
      ],
      "execution_count": 26,
      "outputs": [
        {
          "output_type": "stream",
          "name": "stdout",
          "text": [
            "torch.Size([2, 78])\n",
            "torch.Size([2, 156])\n",
            "Epoch 1/500, Loss: 2.0525, Accuracy: 50.00%\n",
            "Epoch 2/500, Loss: 2.0378, Accuracy: 50.00%\n",
            "Epoch 3/500, Loss: 2.0101, Accuracy: 50.00%\n",
            "Epoch 4/500, Loss: 1.9712, Accuracy: 50.00%\n",
            "Epoch 5/500, Loss: 1.9226, Accuracy: 50.00%\n",
            "Epoch 6/500, Loss: 1.8661, Accuracy: 50.00%\n",
            "Epoch 7/500, Loss: 1.8033, Accuracy: 50.00%\n",
            "Epoch 8/500, Loss: 1.7355, Accuracy: 50.00%\n",
            "Epoch 9/500, Loss: 1.6642, Accuracy: 50.00%\n",
            "Epoch 10/500, Loss: 1.5908, Accuracy: 50.00%\n",
            "Epoch 11/500, Loss: 1.5164, Accuracy: 50.00%\n",
            "Epoch 12/500, Loss: 1.4420, Accuracy: 50.00%\n",
            "Epoch 13/500, Loss: 1.3686, Accuracy: 50.00%\n",
            "Epoch 14/500, Loss: 1.2971, Accuracy: 50.00%\n",
            "Epoch 15/500, Loss: 1.2281, Accuracy: 50.00%\n",
            "Epoch 16/500, Loss: 1.1622, Accuracy: 50.00%\n",
            "Epoch 17/500, Loss: 1.0998, Accuracy: 50.00%\n",
            "Epoch 18/500, Loss: 1.0413, Accuracy: 50.00%\n",
            "Epoch 19/500, Loss: 0.9867, Accuracy: 50.00%\n",
            "Epoch 20/500, Loss: 0.9361, Accuracy: 50.00%\n",
            "Epoch 21/500, Loss: 0.8896, Accuracy: 51.28%\n",
            "Epoch 22/500, Loss: 0.8470, Accuracy: 51.92%\n",
            "Epoch 23/500, Loss: 0.8081, Accuracy: 53.21%\n",
            "Epoch 24/500, Loss: 0.7727, Accuracy: 54.49%\n",
            "Epoch 25/500, Loss: 0.7407, Accuracy: 55.77%\n",
            "Epoch 26/500, Loss: 0.7117, Accuracy: 57.05%\n",
            "Epoch 27/500, Loss: 0.6855, Accuracy: 58.97%\n",
            "Epoch 28/500, Loss: 0.6618, Accuracy: 58.97%\n",
            "Epoch 29/500, Loss: 0.6405, Accuracy: 60.26%\n",
            "Epoch 30/500, Loss: 0.6212, Accuracy: 62.82%\n",
            "Epoch 31/500, Loss: 0.6039, Accuracy: 64.10%\n",
            "Epoch 32/500, Loss: 0.5882, Accuracy: 64.10%\n",
            "Epoch 33/500, Loss: 0.5739, Accuracy: 66.67%\n",
            "Epoch 34/500, Loss: 0.5611, Accuracy: 66.03%\n",
            "Epoch 35/500, Loss: 0.5494, Accuracy: 67.31%\n",
            "Epoch 36/500, Loss: 0.5387, Accuracy: 67.95%\n",
            "Epoch 37/500, Loss: 0.5290, Accuracy: 69.87%\n",
            "Epoch 38/500, Loss: 0.5201, Accuracy: 68.59%\n",
            "Epoch 39/500, Loss: 0.5119, Accuracy: 71.79%\n",
            "Epoch 40/500, Loss: 0.5044, Accuracy: 71.79%\n",
            "Epoch 41/500, Loss: 0.4974, Accuracy: 73.72%\n",
            "Epoch 42/500, Loss: 0.4909, Accuracy: 75.64%\n",
            "Epoch 43/500, Loss: 0.4848, Accuracy: 76.28%\n",
            "Epoch 44/500, Loss: 0.4791, Accuracy: 76.92%\n",
            "Epoch 45/500, Loss: 0.4738, Accuracy: 77.56%\n",
            "Epoch 46/500, Loss: 0.4687, Accuracy: 78.85%\n",
            "Epoch 47/500, Loss: 0.4639, Accuracy: 77.56%\n",
            "Epoch 48/500, Loss: 0.4593, Accuracy: 76.92%\n",
            "Epoch 49/500, Loss: 0.4550, Accuracy: 78.21%\n",
            "Epoch 50/500, Loss: 0.4507, Accuracy: 78.21%\n",
            "Epoch 51/500, Loss: 0.4467, Accuracy: 78.85%\n",
            "Epoch 52/500, Loss: 0.4427, Accuracy: 79.49%\n",
            "Epoch 53/500, Loss: 0.4389, Accuracy: 79.49%\n",
            "Epoch 54/500, Loss: 0.4352, Accuracy: 80.13%\n",
            "Epoch 55/500, Loss: 0.4316, Accuracy: 80.13%\n",
            "Epoch 56/500, Loss: 0.4281, Accuracy: 82.05%\n",
            "Epoch 57/500, Loss: 0.4246, Accuracy: 83.33%\n",
            "Epoch 58/500, Loss: 0.4212, Accuracy: 83.33%\n",
            "Epoch 59/500, Loss: 0.4178, Accuracy: 83.33%\n",
            "Epoch 60/500, Loss: 0.4145, Accuracy: 84.62%\n",
            "Epoch 61/500, Loss: 0.4112, Accuracy: 84.62%\n",
            "Epoch 62/500, Loss: 0.4080, Accuracy: 83.97%\n",
            "Epoch 63/500, Loss: 0.4048, Accuracy: 84.62%\n",
            "Epoch 64/500, Loss: 0.4016, Accuracy: 85.90%\n",
            "Epoch 65/500, Loss: 0.3985, Accuracy: 85.90%\n",
            "Epoch 66/500, Loss: 0.3954, Accuracy: 86.54%\n",
            "Epoch 67/500, Loss: 0.3923, Accuracy: 87.18%\n",
            "Epoch 68/500, Loss: 0.3892, Accuracy: 87.82%\n",
            "Epoch 69/500, Loss: 0.3862, Accuracy: 87.82%\n",
            "Epoch 70/500, Loss: 0.3831, Accuracy: 87.82%\n",
            "Epoch 71/500, Loss: 0.3801, Accuracy: 87.82%\n",
            "Epoch 72/500, Loss: 0.3771, Accuracy: 87.82%\n",
            "Epoch 73/500, Loss: 0.3742, Accuracy: 87.82%\n",
            "Epoch 74/500, Loss: 0.3712, Accuracy: 87.82%\n",
            "Epoch 75/500, Loss: 0.3683, Accuracy: 87.82%\n",
            "Epoch 76/500, Loss: 0.3653, Accuracy: 87.82%\n",
            "Epoch 77/500, Loss: 0.3624, Accuracy: 87.82%\n",
            "Epoch 78/500, Loss: 0.3595, Accuracy: 87.82%\n",
            "Epoch 79/500, Loss: 0.3566, Accuracy: 87.82%\n",
            "Epoch 80/500, Loss: 0.3538, Accuracy: 88.46%\n",
            "Epoch 81/500, Loss: 0.3509, Accuracy: 88.46%\n",
            "Epoch 82/500, Loss: 0.3481, Accuracy: 89.10%\n",
            "Epoch 83/500, Loss: 0.3452, Accuracy: 89.74%\n",
            "Epoch 84/500, Loss: 0.3424, Accuracy: 90.38%\n",
            "Epoch 85/500, Loss: 0.3396, Accuracy: 91.03%\n",
            "Epoch 86/500, Loss: 0.3368, Accuracy: 91.03%\n",
            "Epoch 87/500, Loss: 0.3340, Accuracy: 91.03%\n",
            "Epoch 88/500, Loss: 0.3312, Accuracy: 91.03%\n",
            "Epoch 89/500, Loss: 0.3285, Accuracy: 92.31%\n",
            "Epoch 90/500, Loss: 0.3257, Accuracy: 92.95%\n",
            "Epoch 91/500, Loss: 0.3230, Accuracy: 92.95%\n",
            "Epoch 92/500, Loss: 0.3203, Accuracy: 92.95%\n",
            "Epoch 93/500, Loss: 0.3176, Accuracy: 93.59%\n",
            "Epoch 94/500, Loss: 0.3149, Accuracy: 93.59%\n",
            "Epoch 95/500, Loss: 0.3122, Accuracy: 93.59%\n",
            "Epoch 96/500, Loss: 0.3096, Accuracy: 93.59%\n",
            "Epoch 97/500, Loss: 0.3069, Accuracy: 94.23%\n",
            "Epoch 98/500, Loss: 0.3043, Accuracy: 94.23%\n",
            "Epoch 99/500, Loss: 0.3016, Accuracy: 94.87%\n",
            "Epoch 100/500, Loss: 0.2990, Accuracy: 94.87%\n",
            "Epoch 101/500, Loss: 0.2964, Accuracy: 94.87%\n",
            "Epoch 102/500, Loss: 0.2938, Accuracy: 95.51%\n",
            "Epoch 103/500, Loss: 0.2913, Accuracy: 96.15%\n",
            "Epoch 104/500, Loss: 0.2887, Accuracy: 96.15%\n",
            "Epoch 105/500, Loss: 0.2861, Accuracy: 96.15%\n",
            "Epoch 106/500, Loss: 0.2836, Accuracy: 96.79%\n",
            "Epoch 107/500, Loss: 0.2811, Accuracy: 96.79%\n",
            "Epoch 108/500, Loss: 0.2786, Accuracy: 96.79%\n",
            "Epoch 109/500, Loss: 0.2761, Accuracy: 96.79%\n",
            "Epoch 110/500, Loss: 0.2736, Accuracy: 96.79%\n",
            "Epoch 111/500, Loss: 0.2711, Accuracy: 96.79%\n",
            "Epoch 112/500, Loss: 0.2687, Accuracy: 96.79%\n",
            "Epoch 113/500, Loss: 0.2662, Accuracy: 96.79%\n",
            "Epoch 114/500, Loss: 0.2638, Accuracy: 96.79%\n",
            "Epoch 115/500, Loss: 0.2614, Accuracy: 96.79%\n",
            "Epoch 116/500, Loss: 0.2590, Accuracy: 96.79%\n",
            "Epoch 117/500, Loss: 0.2566, Accuracy: 97.44%\n",
            "Epoch 118/500, Loss: 0.2542, Accuracy: 97.44%\n",
            "Epoch 119/500, Loss: 0.2519, Accuracy: 97.44%\n",
            "Epoch 120/500, Loss: 0.2495, Accuracy: 97.44%\n",
            "Epoch 121/500, Loss: 0.2472, Accuracy: 98.08%\n",
            "Epoch 122/500, Loss: 0.2449, Accuracy: 98.08%\n",
            "Epoch 123/500, Loss: 0.2425, Accuracy: 98.08%\n",
            "Epoch 124/500, Loss: 0.2403, Accuracy: 98.08%\n",
            "Epoch 125/500, Loss: 0.2380, Accuracy: 98.08%\n",
            "Epoch 126/500, Loss: 0.2357, Accuracy: 98.08%\n",
            "Epoch 127/500, Loss: 0.2335, Accuracy: 98.08%\n",
            "Epoch 128/500, Loss: 0.2312, Accuracy: 98.72%\n",
            "Epoch 129/500, Loss: 0.2290, Accuracy: 98.72%\n",
            "Epoch 130/500, Loss: 0.2268, Accuracy: 99.36%\n",
            "Epoch 131/500, Loss: 0.2246, Accuracy: 99.36%\n",
            "Epoch 132/500, Loss: 0.2224, Accuracy: 99.36%\n",
            "Epoch 133/500, Loss: 0.2203, Accuracy: 99.36%\n",
            "Epoch 134/500, Loss: 0.2181, Accuracy: 99.36%\n",
            "Epoch 135/500, Loss: 0.2160, Accuracy: 99.36%\n",
            "Epoch 136/500, Loss: 0.2139, Accuracy: 99.36%\n",
            "Epoch 137/500, Loss: 0.2118, Accuracy: 99.36%\n",
            "Epoch 138/500, Loss: 0.2097, Accuracy: 99.36%\n",
            "Epoch 139/500, Loss: 0.2076, Accuracy: 100.00%\n",
            "Epoch 140/500, Loss: 0.2056, Accuracy: 100.00%\n",
            "Epoch 141/500, Loss: 0.2035, Accuracy: 100.00%\n",
            "Epoch 142/500, Loss: 0.2015, Accuracy: 100.00%\n",
            "Epoch 143/500, Loss: 0.1995, Accuracy: 100.00%\n",
            "Epoch 144/500, Loss: 0.1975, Accuracy: 100.00%\n",
            "Epoch 145/500, Loss: 0.1955, Accuracy: 100.00%\n",
            "Epoch 146/500, Loss: 0.1936, Accuracy: 100.00%\n",
            "Epoch 147/500, Loss: 0.1916, Accuracy: 100.00%\n",
            "Epoch 148/500, Loss: 0.1897, Accuracy: 100.00%\n",
            "Epoch 149/500, Loss: 0.1878, Accuracy: 100.00%\n",
            "Epoch 150/500, Loss: 0.1859, Accuracy: 100.00%\n",
            "Epoch 151/500, Loss: 0.1840, Accuracy: 100.00%\n",
            "Epoch 152/500, Loss: 0.1822, Accuracy: 100.00%\n",
            "Epoch 153/500, Loss: 0.1803, Accuracy: 100.00%\n",
            "Epoch 154/500, Loss: 0.1785, Accuracy: 100.00%\n",
            "Epoch 155/500, Loss: 0.1767, Accuracy: 100.00%\n",
            "Epoch 156/500, Loss: 0.1749, Accuracy: 100.00%\n",
            "Epoch 157/500, Loss: 0.1731, Accuracy: 100.00%\n",
            "Epoch 158/500, Loss: 0.1714, Accuracy: 100.00%\n",
            "Epoch 159/500, Loss: 0.1696, Accuracy: 100.00%\n",
            "Epoch 160/500, Loss: 0.1679, Accuracy: 100.00%\n",
            "Epoch 161/500, Loss: 0.1662, Accuracy: 100.00%\n",
            "Epoch 162/500, Loss: 0.1645, Accuracy: 100.00%\n",
            "Epoch 163/500, Loss: 0.1628, Accuracy: 100.00%\n",
            "Epoch 164/500, Loss: 0.1612, Accuracy: 100.00%\n",
            "Epoch 165/500, Loss: 0.1595, Accuracy: 100.00%\n",
            "Epoch 166/500, Loss: 0.1579, Accuracy: 100.00%\n",
            "Epoch 167/500, Loss: 0.1563, Accuracy: 100.00%\n",
            "Epoch 168/500, Loss: 0.1547, Accuracy: 100.00%\n",
            "Epoch 169/500, Loss: 0.1531, Accuracy: 100.00%\n",
            "Epoch 170/500, Loss: 0.1516, Accuracy: 100.00%\n",
            "Epoch 171/500, Loss: 0.1500, Accuracy: 100.00%\n",
            "Epoch 172/500, Loss: 0.1485, Accuracy: 100.00%\n",
            "Epoch 173/500, Loss: 0.1470, Accuracy: 100.00%\n",
            "Epoch 174/500, Loss: 0.1455, Accuracy: 100.00%\n",
            "Epoch 175/500, Loss: 0.1440, Accuracy: 100.00%\n",
            "Epoch 176/500, Loss: 0.1425, Accuracy: 100.00%\n",
            "Epoch 177/500, Loss: 0.1411, Accuracy: 100.00%\n",
            "Epoch 178/500, Loss: 0.1397, Accuracy: 100.00%\n",
            "Epoch 179/500, Loss: 0.1383, Accuracy: 100.00%\n",
            "Epoch 180/500, Loss: 0.1369, Accuracy: 100.00%\n",
            "Epoch 181/500, Loss: 0.1355, Accuracy: 100.00%\n",
            "Epoch 182/500, Loss: 0.1341, Accuracy: 100.00%\n",
            "Epoch 183/500, Loss: 0.1328, Accuracy: 100.00%\n",
            "Epoch 184/500, Loss: 0.1314, Accuracy: 100.00%\n",
            "Epoch 185/500, Loss: 0.1301, Accuracy: 100.00%\n",
            "Epoch 186/500, Loss: 0.1288, Accuracy: 100.00%\n",
            "Epoch 187/500, Loss: 0.1275, Accuracy: 100.00%\n",
            "Epoch 188/500, Loss: 0.1262, Accuracy: 100.00%\n",
            "Epoch 189/500, Loss: 0.1250, Accuracy: 100.00%\n",
            "Epoch 190/500, Loss: 0.1237, Accuracy: 100.00%\n",
            "Epoch 191/500, Loss: 0.1225, Accuracy: 100.00%\n",
            "Epoch 192/500, Loss: 0.1213, Accuracy: 100.00%\n",
            "Epoch 193/500, Loss: 0.1201, Accuracy: 100.00%\n",
            "Epoch 194/500, Loss: 0.1189, Accuracy: 100.00%\n",
            "Epoch 195/500, Loss: 0.1177, Accuracy: 100.00%\n",
            "Epoch 196/500, Loss: 0.1166, Accuracy: 100.00%\n",
            "Epoch 197/500, Loss: 0.1154, Accuracy: 100.00%\n",
            "Epoch 198/500, Loss: 0.1143, Accuracy: 100.00%\n",
            "Epoch 199/500, Loss: 0.1132, Accuracy: 100.00%\n",
            "Epoch 200/500, Loss: 0.1121, Accuracy: 100.00%\n",
            "Epoch 201/500, Loss: 0.1110, Accuracy: 100.00%\n",
            "Epoch 202/500, Loss: 0.1099, Accuracy: 100.00%\n",
            "Epoch 203/500, Loss: 0.1089, Accuracy: 100.00%\n",
            "Epoch 204/500, Loss: 0.1078, Accuracy: 100.00%\n",
            "Epoch 205/500, Loss: 0.1068, Accuracy: 100.00%\n",
            "Epoch 206/500, Loss: 0.1058, Accuracy: 100.00%\n",
            "Epoch 207/500, Loss: 0.1047, Accuracy: 100.00%\n",
            "Epoch 208/500, Loss: 0.1037, Accuracy: 100.00%\n",
            "Epoch 209/500, Loss: 0.1028, Accuracy: 100.00%\n",
            "Epoch 210/500, Loss: 0.1018, Accuracy: 100.00%\n",
            "Epoch 211/500, Loss: 0.1008, Accuracy: 100.00%\n",
            "Epoch 212/500, Loss: 0.0999, Accuracy: 100.00%\n",
            "Epoch 213/500, Loss: 0.0989, Accuracy: 100.00%\n",
            "Epoch 214/500, Loss: 0.0980, Accuracy: 100.00%\n",
            "Epoch 215/500, Loss: 0.0971, Accuracy: 100.00%\n",
            "Epoch 216/500, Loss: 0.0962, Accuracy: 100.00%\n",
            "Epoch 217/500, Loss: 0.0953, Accuracy: 100.00%\n",
            "Epoch 218/500, Loss: 0.0944, Accuracy: 100.00%\n",
            "Epoch 219/500, Loss: 0.0935, Accuracy: 100.00%\n",
            "Epoch 220/500, Loss: 0.0927, Accuracy: 100.00%\n",
            "Epoch 221/500, Loss: 0.0918, Accuracy: 100.00%\n",
            "Epoch 222/500, Loss: 0.0910, Accuracy: 100.00%\n",
            "Epoch 223/500, Loss: 0.0902, Accuracy: 100.00%\n",
            "Epoch 224/500, Loss: 0.0893, Accuracy: 100.00%\n",
            "Epoch 225/500, Loss: 0.0885, Accuracy: 100.00%\n",
            "Epoch 226/500, Loss: 0.0877, Accuracy: 100.00%\n",
            "Epoch 227/500, Loss: 0.0870, Accuracy: 100.00%\n",
            "Epoch 228/500, Loss: 0.0862, Accuracy: 100.00%\n",
            "Epoch 229/500, Loss: 0.0854, Accuracy: 100.00%\n",
            "Epoch 230/500, Loss: 0.0846, Accuracy: 100.00%\n",
            "Epoch 231/500, Loss: 0.0839, Accuracy: 100.00%\n",
            "Epoch 232/500, Loss: 0.0832, Accuracy: 100.00%\n",
            "Epoch 233/500, Loss: 0.0824, Accuracy: 100.00%\n",
            "Epoch 234/500, Loss: 0.0817, Accuracy: 100.00%\n",
            "Epoch 235/500, Loss: 0.0810, Accuracy: 100.00%\n",
            "Epoch 236/500, Loss: 0.0803, Accuracy: 100.00%\n",
            "Epoch 237/500, Loss: 0.0796, Accuracy: 100.00%\n",
            "Epoch 238/500, Loss: 0.0789, Accuracy: 100.00%\n",
            "Epoch 239/500, Loss: 0.0782, Accuracy: 100.00%\n",
            "Epoch 240/500, Loss: 0.0776, Accuracy: 100.00%\n",
            "Epoch 241/500, Loss: 0.0769, Accuracy: 100.00%\n",
            "Epoch 242/500, Loss: 0.0762, Accuracy: 100.00%\n",
            "Epoch 243/500, Loss: 0.0756, Accuracy: 100.00%\n",
            "Epoch 244/500, Loss: 0.0750, Accuracy: 100.00%\n",
            "Epoch 245/500, Loss: 0.0743, Accuracy: 100.00%\n",
            "Epoch 246/500, Loss: 0.0737, Accuracy: 100.00%\n",
            "Epoch 247/500, Loss: 0.0731, Accuracy: 100.00%\n",
            "Epoch 248/500, Loss: 0.0725, Accuracy: 100.00%\n",
            "Epoch 249/500, Loss: 0.0719, Accuracy: 100.00%\n",
            "Epoch 250/500, Loss: 0.0713, Accuracy: 100.00%\n",
            "Epoch 251/500, Loss: 0.0707, Accuracy: 100.00%\n",
            "Epoch 252/500, Loss: 0.0701, Accuracy: 100.00%\n",
            "Epoch 253/500, Loss: 0.0696, Accuracy: 100.00%\n",
            "Epoch 254/500, Loss: 0.0690, Accuracy: 100.00%\n",
            "Epoch 255/500, Loss: 0.0684, Accuracy: 100.00%\n",
            "Epoch 256/500, Loss: 0.0679, Accuracy: 100.00%\n",
            "Epoch 257/500, Loss: 0.0673, Accuracy: 100.00%\n",
            "Epoch 258/500, Loss: 0.0668, Accuracy: 100.00%\n",
            "Epoch 259/500, Loss: 0.0663, Accuracy: 100.00%\n",
            "Epoch 260/500, Loss: 0.0658, Accuracy: 100.00%\n",
            "Epoch 261/500, Loss: 0.0652, Accuracy: 100.00%\n",
            "Epoch 262/500, Loss: 0.0647, Accuracy: 100.00%\n",
            "Epoch 263/500, Loss: 0.0642, Accuracy: 100.00%\n",
            "Epoch 264/500, Loss: 0.0637, Accuracy: 100.00%\n",
            "Epoch 265/500, Loss: 0.0632, Accuracy: 100.00%\n",
            "Epoch 266/500, Loss: 0.0627, Accuracy: 100.00%\n",
            "Epoch 267/500, Loss: 0.0622, Accuracy: 100.00%\n",
            "Epoch 268/500, Loss: 0.0618, Accuracy: 100.00%\n",
            "Epoch 269/500, Loss: 0.0613, Accuracy: 100.00%\n",
            "Epoch 270/500, Loss: 0.0608, Accuracy: 100.00%\n",
            "Epoch 271/500, Loss: 0.0604, Accuracy: 100.00%\n",
            "Epoch 272/500, Loss: 0.0599, Accuracy: 100.00%\n",
            "Epoch 273/500, Loss: 0.0595, Accuracy: 100.00%\n",
            "Epoch 274/500, Loss: 0.0590, Accuracy: 100.00%\n",
            "Epoch 275/500, Loss: 0.0586, Accuracy: 100.00%\n",
            "Epoch 276/500, Loss: 0.0581, Accuracy: 100.00%\n",
            "Epoch 277/500, Loss: 0.0577, Accuracy: 100.00%\n",
            "Epoch 278/500, Loss: 0.0573, Accuracy: 100.00%\n",
            "Epoch 279/500, Loss: 0.0569, Accuracy: 100.00%\n",
            "Epoch 280/500, Loss: 0.0565, Accuracy: 100.00%\n",
            "Epoch 281/500, Loss: 0.0560, Accuracy: 100.00%\n",
            "Epoch 282/500, Loss: 0.0556, Accuracy: 100.00%\n",
            "Epoch 283/500, Loss: 0.0552, Accuracy: 100.00%\n",
            "Epoch 284/500, Loss: 0.0548, Accuracy: 100.00%\n",
            "Epoch 285/500, Loss: 0.0544, Accuracy: 100.00%\n",
            "Epoch 286/500, Loss: 0.0541, Accuracy: 100.00%\n",
            "Epoch 287/500, Loss: 0.0537, Accuracy: 100.00%\n",
            "Epoch 288/500, Loss: 0.0533, Accuracy: 100.00%\n",
            "Epoch 289/500, Loss: 0.0529, Accuracy: 100.00%\n",
            "Epoch 290/500, Loss: 0.0525, Accuracy: 100.00%\n",
            "Epoch 291/500, Loss: 0.0522, Accuracy: 100.00%\n",
            "Epoch 292/500, Loss: 0.0518, Accuracy: 100.00%\n",
            "Epoch 293/500, Loss: 0.0515, Accuracy: 100.00%\n",
            "Epoch 294/500, Loss: 0.0511, Accuracy: 100.00%\n",
            "Epoch 295/500, Loss: 0.0508, Accuracy: 100.00%\n",
            "Epoch 296/500, Loss: 0.0504, Accuracy: 100.00%\n",
            "Epoch 297/500, Loss: 0.0501, Accuracy: 100.00%\n",
            "Epoch 298/500, Loss: 0.0497, Accuracy: 100.00%\n",
            "Epoch 299/500, Loss: 0.0494, Accuracy: 100.00%\n",
            "Epoch 300/500, Loss: 0.0491, Accuracy: 100.00%\n",
            "Epoch 301/500, Loss: 0.0487, Accuracy: 100.00%\n",
            "Epoch 302/500, Loss: 0.0484, Accuracy: 100.00%\n",
            "Epoch 303/500, Loss: 0.0481, Accuracy: 100.00%\n",
            "Epoch 304/500, Loss: 0.0478, Accuracy: 100.00%\n",
            "Epoch 305/500, Loss: 0.0474, Accuracy: 100.00%\n",
            "Epoch 306/500, Loss: 0.0471, Accuracy: 100.00%\n",
            "Epoch 307/500, Loss: 0.0468, Accuracy: 100.00%\n",
            "Epoch 308/500, Loss: 0.0465, Accuracy: 100.00%\n",
            "Epoch 309/500, Loss: 0.0462, Accuracy: 100.00%\n",
            "Epoch 310/500, Loss: 0.0459, Accuracy: 100.00%\n",
            "Epoch 311/500, Loss: 0.0456, Accuracy: 100.00%\n",
            "Epoch 312/500, Loss: 0.0453, Accuracy: 100.00%\n",
            "Epoch 313/500, Loss: 0.0450, Accuracy: 100.00%\n",
            "Epoch 314/500, Loss: 0.0447, Accuracy: 100.00%\n",
            "Epoch 315/500, Loss: 0.0445, Accuracy: 100.00%\n",
            "Epoch 316/500, Loss: 0.0442, Accuracy: 100.00%\n",
            "Epoch 317/500, Loss: 0.0439, Accuracy: 100.00%\n",
            "Epoch 318/500, Loss: 0.0436, Accuracy: 100.00%\n",
            "Epoch 319/500, Loss: 0.0434, Accuracy: 100.00%\n",
            "Epoch 320/500, Loss: 0.0431, Accuracy: 100.00%\n",
            "Epoch 321/500, Loss: 0.0428, Accuracy: 100.00%\n",
            "Epoch 322/500, Loss: 0.0425, Accuracy: 100.00%\n",
            "Epoch 323/500, Loss: 0.0423, Accuracy: 100.00%\n",
            "Epoch 324/500, Loss: 0.0420, Accuracy: 100.00%\n",
            "Epoch 325/500, Loss: 0.0418, Accuracy: 100.00%\n",
            "Epoch 326/500, Loss: 0.0415, Accuracy: 100.00%\n",
            "Epoch 327/500, Loss: 0.0413, Accuracy: 100.00%\n",
            "Epoch 328/500, Loss: 0.0410, Accuracy: 100.00%\n",
            "Epoch 329/500, Loss: 0.0408, Accuracy: 100.00%\n",
            "Epoch 330/500, Loss: 0.0405, Accuracy: 100.00%\n",
            "Epoch 331/500, Loss: 0.0403, Accuracy: 100.00%\n",
            "Epoch 332/500, Loss: 0.0400, Accuracy: 100.00%\n",
            "Epoch 333/500, Loss: 0.0398, Accuracy: 100.00%\n",
            "Epoch 334/500, Loss: 0.0396, Accuracy: 100.00%\n",
            "Epoch 335/500, Loss: 0.0393, Accuracy: 100.00%\n",
            "Epoch 336/500, Loss: 0.0391, Accuracy: 100.00%\n",
            "Epoch 337/500, Loss: 0.0389, Accuracy: 100.00%\n",
            "Epoch 338/500, Loss: 0.0387, Accuracy: 100.00%\n",
            "Epoch 339/500, Loss: 0.0384, Accuracy: 100.00%\n",
            "Epoch 340/500, Loss: 0.0382, Accuracy: 100.00%\n",
            "Epoch 341/500, Loss: 0.0380, Accuracy: 100.00%\n",
            "Epoch 342/500, Loss: 0.0378, Accuracy: 100.00%\n",
            "Epoch 343/500, Loss: 0.0376, Accuracy: 100.00%\n",
            "Epoch 344/500, Loss: 0.0373, Accuracy: 100.00%\n",
            "Epoch 345/500, Loss: 0.0371, Accuracy: 100.00%\n",
            "Epoch 346/500, Loss: 0.0369, Accuracy: 100.00%\n",
            "Epoch 347/500, Loss: 0.0367, Accuracy: 100.00%\n",
            "Epoch 348/500, Loss: 0.0365, Accuracy: 100.00%\n",
            "Epoch 349/500, Loss: 0.0363, Accuracy: 100.00%\n",
            "Epoch 350/500, Loss: 0.0361, Accuracy: 100.00%\n",
            "Epoch 351/500, Loss: 0.0359, Accuracy: 100.00%\n",
            "Epoch 352/500, Loss: 0.0357, Accuracy: 100.00%\n",
            "Epoch 353/500, Loss: 0.0355, Accuracy: 100.00%\n",
            "Epoch 354/500, Loss: 0.0353, Accuracy: 100.00%\n",
            "Epoch 355/500, Loss: 0.0351, Accuracy: 100.00%\n",
            "Epoch 356/500, Loss: 0.0349, Accuracy: 100.00%\n",
            "Epoch 357/500, Loss: 0.0347, Accuracy: 100.00%\n",
            "Epoch 358/500, Loss: 0.0346, Accuracy: 100.00%\n",
            "Epoch 359/500, Loss: 0.0344, Accuracy: 100.00%\n",
            "Epoch 360/500, Loss: 0.0342, Accuracy: 100.00%\n",
            "Epoch 361/500, Loss: 0.0340, Accuracy: 100.00%\n",
            "Epoch 362/500, Loss: 0.0338, Accuracy: 100.00%\n",
            "Epoch 363/500, Loss: 0.0336, Accuracy: 100.00%\n",
            "Epoch 364/500, Loss: 0.0335, Accuracy: 100.00%\n",
            "Epoch 365/500, Loss: 0.0333, Accuracy: 100.00%\n",
            "Epoch 366/500, Loss: 0.0331, Accuracy: 100.00%\n",
            "Epoch 367/500, Loss: 0.0329, Accuracy: 100.00%\n",
            "Epoch 368/500, Loss: 0.0328, Accuracy: 100.00%\n",
            "Epoch 369/500, Loss: 0.0326, Accuracy: 100.00%\n",
            "Epoch 370/500, Loss: 0.0324, Accuracy: 100.00%\n",
            "Epoch 371/500, Loss: 0.0323, Accuracy: 100.00%\n",
            "Epoch 372/500, Loss: 0.0321, Accuracy: 100.00%\n",
            "Epoch 373/500, Loss: 0.0319, Accuracy: 100.00%\n",
            "Epoch 374/500, Loss: 0.0318, Accuracy: 100.00%\n",
            "Epoch 375/500, Loss: 0.0316, Accuracy: 100.00%\n",
            "Epoch 376/500, Loss: 0.0314, Accuracy: 100.00%\n",
            "Epoch 377/500, Loss: 0.0313, Accuracy: 100.00%\n",
            "Epoch 378/500, Loss: 0.0311, Accuracy: 100.00%\n",
            "Epoch 379/500, Loss: 0.0310, Accuracy: 100.00%\n",
            "Epoch 380/500, Loss: 0.0308, Accuracy: 100.00%\n",
            "Epoch 381/500, Loss: 0.0307, Accuracy: 100.00%\n",
            "Epoch 382/500, Loss: 0.0305, Accuracy: 100.00%\n",
            "Epoch 383/500, Loss: 0.0304, Accuracy: 100.00%\n",
            "Epoch 384/500, Loss: 0.0302, Accuracy: 100.00%\n",
            "Epoch 385/500, Loss: 0.0301, Accuracy: 100.00%\n",
            "Epoch 386/500, Loss: 0.0299, Accuracy: 100.00%\n",
            "Epoch 387/500, Loss: 0.0298, Accuracy: 100.00%\n",
            "Epoch 388/500, Loss: 0.0296, Accuracy: 100.00%\n",
            "Epoch 389/500, Loss: 0.0295, Accuracy: 100.00%\n",
            "Epoch 390/500, Loss: 0.0293, Accuracy: 100.00%\n",
            "Epoch 391/500, Loss: 0.0292, Accuracy: 100.00%\n",
            "Epoch 392/500, Loss: 0.0291, Accuracy: 100.00%\n",
            "Epoch 393/500, Loss: 0.0289, Accuracy: 100.00%\n",
            "Epoch 394/500, Loss: 0.0288, Accuracy: 100.00%\n",
            "Epoch 395/500, Loss: 0.0286, Accuracy: 100.00%\n",
            "Epoch 396/500, Loss: 0.0285, Accuracy: 100.00%\n",
            "Epoch 397/500, Loss: 0.0284, Accuracy: 100.00%\n",
            "Epoch 398/500, Loss: 0.0282, Accuracy: 100.00%\n",
            "Epoch 399/500, Loss: 0.0281, Accuracy: 100.00%\n",
            "Epoch 400/500, Loss: 0.0280, Accuracy: 100.00%\n",
            "Epoch 401/500, Loss: 0.0278, Accuracy: 100.00%\n",
            "Epoch 402/500, Loss: 0.0277, Accuracy: 100.00%\n",
            "Epoch 403/500, Loss: 0.0276, Accuracy: 100.00%\n",
            "Epoch 404/500, Loss: 0.0275, Accuracy: 100.00%\n",
            "Epoch 405/500, Loss: 0.0273, Accuracy: 100.00%\n",
            "Epoch 406/500, Loss: 0.0272, Accuracy: 100.00%\n",
            "Epoch 407/500, Loss: 0.0271, Accuracy: 100.00%\n",
            "Epoch 408/500, Loss: 0.0270, Accuracy: 100.00%\n",
            "Epoch 409/500, Loss: 0.0268, Accuracy: 100.00%\n",
            "Epoch 410/500, Loss: 0.0267, Accuracy: 100.00%\n",
            "Epoch 411/500, Loss: 0.0266, Accuracy: 100.00%\n",
            "Epoch 412/500, Loss: 0.0265, Accuracy: 100.00%\n",
            "Epoch 413/500, Loss: 0.0264, Accuracy: 100.00%\n",
            "Epoch 414/500, Loss: 0.0262, Accuracy: 100.00%\n",
            "Epoch 415/500, Loss: 0.0261, Accuracy: 100.00%\n",
            "Epoch 416/500, Loss: 0.0260, Accuracy: 100.00%\n",
            "Epoch 417/500, Loss: 0.0259, Accuracy: 100.00%\n",
            "Epoch 418/500, Loss: 0.0258, Accuracy: 100.00%\n",
            "Epoch 419/500, Loss: 0.0257, Accuracy: 100.00%\n",
            "Epoch 420/500, Loss: 0.0256, Accuracy: 100.00%\n",
            "Epoch 421/500, Loss: 0.0254, Accuracy: 100.00%\n",
            "Epoch 422/500, Loss: 0.0253, Accuracy: 100.00%\n",
            "Epoch 423/500, Loss: 0.0252, Accuracy: 100.00%\n",
            "Epoch 424/500, Loss: 0.0251, Accuracy: 100.00%\n",
            "Epoch 425/500, Loss: 0.0250, Accuracy: 100.00%\n",
            "Epoch 426/500, Loss: 0.0249, Accuracy: 100.00%\n",
            "Epoch 427/500, Loss: 0.0248, Accuracy: 100.00%\n",
            "Epoch 428/500, Loss: 0.0247, Accuracy: 100.00%\n",
            "Epoch 429/500, Loss: 0.0246, Accuracy: 100.00%\n",
            "Epoch 430/500, Loss: 0.0245, Accuracy: 100.00%\n",
            "Epoch 431/500, Loss: 0.0244, Accuracy: 100.00%\n",
            "Epoch 432/500, Loss: 0.0243, Accuracy: 100.00%\n",
            "Epoch 433/500, Loss: 0.0242, Accuracy: 100.00%\n",
            "Epoch 434/500, Loss: 0.0241, Accuracy: 100.00%\n",
            "Epoch 435/500, Loss: 0.0240, Accuracy: 100.00%\n",
            "Epoch 436/500, Loss: 0.0239, Accuracy: 100.00%\n",
            "Epoch 437/500, Loss: 0.0238, Accuracy: 100.00%\n",
            "Epoch 438/500, Loss: 0.0237, Accuracy: 100.00%\n",
            "Epoch 439/500, Loss: 0.0236, Accuracy: 100.00%\n",
            "Epoch 440/500, Loss: 0.0235, Accuracy: 100.00%\n",
            "Epoch 441/500, Loss: 0.0234, Accuracy: 100.00%\n",
            "Epoch 442/500, Loss: 0.0233, Accuracy: 100.00%\n",
            "Epoch 443/500, Loss: 0.0232, Accuracy: 100.00%\n",
            "Epoch 444/500, Loss: 0.0231, Accuracy: 100.00%\n",
            "Epoch 445/500, Loss: 0.0230, Accuracy: 100.00%\n",
            "Epoch 446/500, Loss: 0.0229, Accuracy: 100.00%\n",
            "Epoch 447/500, Loss: 0.0228, Accuracy: 100.00%\n",
            "Epoch 448/500, Loss: 0.0227, Accuracy: 100.00%\n",
            "Epoch 449/500, Loss: 0.0226, Accuracy: 100.00%\n",
            "Epoch 450/500, Loss: 0.0225, Accuracy: 100.00%\n",
            "Epoch 451/500, Loss: 0.0224, Accuracy: 100.00%\n",
            "Epoch 452/500, Loss: 0.0224, Accuracy: 100.00%\n",
            "Epoch 453/500, Loss: 0.0223, Accuracy: 100.00%\n",
            "Epoch 454/500, Loss: 0.0222, Accuracy: 100.00%\n",
            "Epoch 455/500, Loss: 0.0221, Accuracy: 100.00%\n",
            "Epoch 456/500, Loss: 0.0220, Accuracy: 100.00%\n",
            "Epoch 457/500, Loss: 0.0219, Accuracy: 100.00%\n",
            "Epoch 458/500, Loss: 0.0218, Accuracy: 100.00%\n",
            "Epoch 459/500, Loss: 0.0217, Accuracy: 100.00%\n",
            "Epoch 460/500, Loss: 0.0217, Accuracy: 100.00%\n",
            "Epoch 461/500, Loss: 0.0216, Accuracy: 100.00%\n",
            "Epoch 462/500, Loss: 0.0215, Accuracy: 100.00%\n",
            "Epoch 463/500, Loss: 0.0214, Accuracy: 100.00%\n",
            "Epoch 464/500, Loss: 0.0213, Accuracy: 100.00%\n",
            "Epoch 465/500, Loss: 0.0212, Accuracy: 100.00%\n",
            "Epoch 466/500, Loss: 0.0212, Accuracy: 100.00%\n",
            "Epoch 467/500, Loss: 0.0211, Accuracy: 100.00%\n",
            "Epoch 468/500, Loss: 0.0210, Accuracy: 100.00%\n",
            "Epoch 469/500, Loss: 0.0209, Accuracy: 100.00%\n",
            "Epoch 470/500, Loss: 0.0208, Accuracy: 100.00%\n",
            "Epoch 471/500, Loss: 0.0208, Accuracy: 100.00%\n",
            "Epoch 472/500, Loss: 0.0207, Accuracy: 100.00%\n",
            "Epoch 473/500, Loss: 0.0206, Accuracy: 100.00%\n",
            "Epoch 474/500, Loss: 0.0205, Accuracy: 100.00%\n",
            "Epoch 475/500, Loss: 0.0205, Accuracy: 100.00%\n",
            "Epoch 476/500, Loss: 0.0204, Accuracy: 100.00%\n",
            "Epoch 477/500, Loss: 0.0203, Accuracy: 100.00%\n",
            "Epoch 478/500, Loss: 0.0202, Accuracy: 100.00%\n",
            "Epoch 479/500, Loss: 0.0201, Accuracy: 100.00%\n",
            "Epoch 480/500, Loss: 0.0201, Accuracy: 100.00%\n",
            "Epoch 481/500, Loss: 0.0200, Accuracy: 100.00%\n",
            "Epoch 482/500, Loss: 0.0199, Accuracy: 100.00%\n",
            "Epoch 483/500, Loss: 0.0199, Accuracy: 100.00%\n",
            "Epoch 484/500, Loss: 0.0198, Accuracy: 100.00%\n",
            "Epoch 485/500, Loss: 0.0197, Accuracy: 100.00%\n",
            "Epoch 486/500, Loss: 0.0196, Accuracy: 100.00%\n",
            "Epoch 487/500, Loss: 0.0196, Accuracy: 100.00%\n",
            "Epoch 488/500, Loss: 0.0195, Accuracy: 100.00%\n",
            "Epoch 489/500, Loss: 0.0194, Accuracy: 100.00%\n",
            "Epoch 490/500, Loss: 0.0194, Accuracy: 100.00%\n",
            "Epoch 491/500, Loss: 0.0193, Accuracy: 100.00%\n",
            "Epoch 492/500, Loss: 0.0192, Accuracy: 100.00%\n",
            "Epoch 493/500, Loss: 0.0192, Accuracy: 100.00%\n",
            "Epoch 494/500, Loss: 0.0191, Accuracy: 100.00%\n",
            "Epoch 495/500, Loss: 0.0190, Accuracy: 100.00%\n",
            "Epoch 496/500, Loss: 0.0189, Accuracy: 100.00%\n",
            "Epoch 497/500, Loss: 0.0189, Accuracy: 100.00%\n",
            "Epoch 498/500, Loss: 0.0188, Accuracy: 100.00%\n",
            "Epoch 499/500, Loss: 0.0187, Accuracy: 100.00%\n",
            "Epoch 500/500, Loss: 0.0187, Accuracy: 100.00%\n"
          ]
        }
      ]
    },
    {
      "cell_type": "markdown",
      "metadata": {
        "id": "WX2PSXnTDiNi"
      },
      "source": [
        "## Visualize the final node embeddings\n",
        "Visualize your final embedding here!\n",
        "You can visually compare the figure with the previous embedding figure.\n",
        "After training, you should oberserve that the two classes are more evidently separated.\n",
        "This is a great sanitity check for your implementation as well."
      ]
    },
    {
      "cell_type": "code",
      "metadata": {
        "id": "MtNgl4VhYKow",
        "colab": {
          "base_uri": "https://localhost:8080/",
          "height": 522
        },
        "outputId": "4b77e4c2-442c-4176-ba0b-2651fa75546b"
      },
      "source": [
        "# Visualize the final learned embedding\n",
        "visualize_emb(emb)"
      ],
      "execution_count": 27,
      "outputs": [
        {
          "output_type": "display_data",
          "data": {
            "text/plain": [
              "<Figure size 600x600 with 1 Axes>"
            ],
            "image/png": "[encoded data removed]"
          },
          "metadata": {}
        }
      ]
    },
    {
      "cell_type": "markdown",
      "metadata": {
        "id": "FTNyrAoSVeq9"
      },
      "source": [
        "# Submission"
      ]
    },
    {
      "cell_type": "markdown",
      "metadata": {
        "id": "E_E7J_GkVhY_"
      },
      "source": [
        "In order to get credit, you must go submit your answers on Gradescope."
      ]
    }
  ]
}